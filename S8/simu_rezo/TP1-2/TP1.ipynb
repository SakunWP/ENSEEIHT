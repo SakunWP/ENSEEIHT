{
 "cells": [
  {
   "cell_type": "markdown",
   "metadata": {},
   "source": [
    "# Modèles simples de réseaux à commutation de paquets\n",
    "\n",
    "---\n",
    "\n",
    "__Objectifs__ : Modéliser les réseaux à commutation de paquets par des modèles de réseaux de files d’attentes\n",
    "simples. Etudier l’impact de la durée de la simulation sur les intervalles de confiance. Valider les résultats\n",
    "obtenus par simulation.\n",
    "\n",
    "---"
   ]
  },
  {
   "cell_type": "markdown",
   "metadata": {},
   "source": [
    "Une source de trafic génère des paquets dont l’inter-arrivée est exponentiellement distribuée de\n",
    "moyenne 1/$\\lambda$. Les paquets sont envoyés sans mise en place de mécanismes de contrôle (ni contrôle\n",
    "de flux, ni contrôle de congestion).\n",
    "\n",
    "Nous nous intéressons au dimensionnement des files de sortie d’un noeud de commutation. Dans la\n",
    "première partie, nous supposons que ces noeuds de commutations n’ont aucune limitation de\n",
    "capacité. Les tailles des datagrammes et des trames sont considérées infinies."
   ]
  },
  {
   "cell_type": "markdown",
   "metadata": {},
   "source": [
    "### Simulation de files M/M/1, M/D/1\n",
    "La taille des paquets est exponentiellement distribuée de moyenne (100000 bits/8 $\\mu$). La capacité du\n",
    "lien de sortie des noeuds de commutation est de 100Kbps.\n",
    "\n",
    "1) Observer, le temps de réponse (de l’émission du premier bit du paquet par la source jusqu’à la\n",
    "réception du dernier bit du paquet par la destination) et le nombre de paquets pour $\\lambda=20$ et $\\mu=33$ et\n",
    "pour une durée de simulation de 10sec :\n",
    "    - a. Tracer le temps de réponse.\n",
    "    - b. Tracer également les nombres, instantané et moyen, de paquets dans la file en fonction du\n",
    "temps."
   ]
  },
  {
   "cell_type": "code",
   "execution_count": 1,
   "metadata": {},
   "outputs": [
    {
     "name": "stdout",
     "output_type": "stream",
     "text": [
      "0.3642857142857143\n",
      "1.0499999999999998\n",
      "4.950000000000002\n",
      "---\n",
      "0.0367965367965368\n",
      "0.05303030303030302\n",
      "0.16666666666666674\n",
      "Lancement de la simulation\n",
      "Traitement du temps de reponse (tr)\n",
      "    nb_pkt   tr_instant      tr_mean     int_conf    borne_inf    borne_sup\n",
      "Traitement de la taille des files d'attente (fa)\n",
      "             fa_instant      fa_mean     int_conf    borne_inf    borne_sup\n",
      "Affichage des graphes tr & fa\n",
      "\n",
      "Affichage des graphes tr & fa\n"
     ]
    },
    {
     "data": {
      "image/png": "[encoded data removed]",
      "text/plain": [
       "<Figure size 432x288 with 1 Axes>"
      ]
     },
     "metadata": {
      "needs_background": "light"
     },
     "output_type": "display_data"
    },
    {
     "data": {
      "image/png": "[encoded data removed]",
      "text/plain": [
       "<Figure size 432x288 with 1 Axes>"
      ]
     },
     "metadata": {
      "needs_background": "light"
     },
     "output_type": "display_data"
    }
   ],
   "source": [
    "# ns doit être installé pour lancer ce script (apt install ns2)\n",
    "# version recommandée de python: 3.8\n",
    "# Ce script permet de lancer une simulation de file d'attente M/M/1\n",
    "import subprocess\n",
    "import os\n",
    "from MM1.utils import plot_length, plot_response\n",
    "\n",
    "plot = True # True pour afficher les graphes de longueur de file d'attente et de temps de réponse\n",
    "cwd = os.getcwd()\n",
    "os.chdir(f\"{cwd}/MM1\")\n",
    "lambda_val = 20.0\n",
    "mu = 33.0\n",
    "duration = 10  # sec\n",
    "mm1 = subprocess.run([\"sh\" , \"sim_mm1.sh\", str(lambda_val), str(mu), str(duration)], capture_output=True, text=True)\n",
    "print(mm1.stdout)\n",
    "\n",
    "if (plot):\n",
    "    print(\"Affichage des graphes tr & fa\")\n",
    "    plot_length(duration, \"Queue Length: M/M/1\")\n",
    "    plot_response(duration, \"Response Time: M/M/1\")\n",
    "\n",
    "os.chdir(\"..\")\n"
   ]
  },
  {
   "cell_type": "markdown",
   "metadata": {},
   "source": [
    "\n",
    "2) Trouver par simulation le nombre moyen de paquets dans la file d’émission ainsi que le temps\n",
    "moyen de réponse, pour une charge variant de 0.3, 0.6 et 0.9.\n",
    "Observer le temps de réponse moyen, le nombre moyen de clients ainsi que les intervalles de\n",
    "confiance associés en fonction de la durée de la simulation.\n"
   ]
  },
  {
   "cell_type": "markdown",
   "metadata": {},
   "source": [
    "3) Reprendre les deux premières questions, pour des paquets de taille constante et comparer les résultats.\n"
   ]
  },
  {
   "cell_type": "code",
   "execution_count": null,
   "metadata": {},
   "outputs": [],
   "source": [
    "import subprocess\n",
    "import os\n",
    "from MM1.utils import plot_length, plot_response\n",
    "plot = True # True pour afficher les graphes de longueur de file d'attente et de temps de réponse\n",
    "lambda_val = 20.0\n",
    "mu = 33.0\n",
    "duration = 10  # sec\n",
    "\n",
    "os.chdir(f\"{os.getcwd()}/MM1\")\n",
    "\n",
    "md1 = subprocess.run([\"sh\" , \"sim_md1.sh\", str(lambda_val), str(mu), str(duration)], capture_output=True, text=True)\n",
    "print(md1.stdout)\n",
    "\n",
    "if (plot):\n",
    "    print(\"Affichage des graphes tr & fa\")\n",
    "    plot_length(duration, \"Queue Length: M/D/1\")\n",
    "    plot_response(duration, \"Response Time: M/D/1\")\n",
    "\n",
    "os.chdir(\"..\")"
   ]
  },
  {
   "cell_type": "markdown",
   "metadata": {},
   "source": [
    "### Simulation de files de taille finie\n",
    "Dans le modèle précédent, les buffers sont considérés de très grande taille afin d’éviter les pertes.\n",
    "Utiliser les buffers de capacité limitée, peut être modélisé par une file M/M/1/K.\n",
    "1) Déterminer par simulation la probabilité de rejet de paquets pour $K=2$,\n",
    "$\\lambda=20$ et $\\mu=33$.\n"
   ]
  },
  {
   "cell_type": "markdown",
   "metadata": {},
   "source": [
    "2) Tracer le taux de rejet en fonction de K.\n"
   ]
  },
  {
   "cell_type": "code",
   "execution_count": null,
   "metadata": {},
   "outputs": [],
   "source": [
    "import subprocess\n",
    "import os\n",
    "from concurrent.futures import ThreadPoolExecutor, as_completed\n",
    "import matplotlib.pyplot as plt\n",
    "\n",
    "# Déplacer le répertoire de travail\n",
    "os.chdir(\"MM1K\")\n",
    "\n",
    "# Valeurs initiales\n",
    "lambda_val, mu, duration1, duration2 = 20, 33, 5000, 15000  # msec\n",
    "\n",
    "def run_script(script_name, lambda_val, mu, duration):\n",
    "    result = subprocess.run([\"perl\", script_name, str(lambda_val), str(mu), str(duration)], capture_output=True, text=True)\n",
    "    return result.stdout\n",
    "\n",
    "# Utilisation de ThreadPoolExecutor pour exécuter les scripts en parallèle\n",
    "with ThreadPoolExecutor() as executor:\n",
    "    futures = []\n",
    "    futures.append(executor.submit(run_script, \"rejet.pl\", lambda_val, mu, duration1))\n",
    "    futures.append(executor.submit(run_script, \"rejetMD1K.pl\", lambda_val, mu, duration2))\n",
    "    results = [future.result() for future in as_completed(futures)]\n",
    "\n",
    "\n",
    "print(\"Capa. file\\tTx analy.\\tTx simu.\")\n",
    "print(results[0])\n",
    "print(\"-----------------------\")\n",
    "print(results[1])\n",
    "\n",
    "lines, lines2 = list(map(lambda listi : list(filter(lambda y: y.strip() != \"\", listi)) ,list(map(lambda x: x.replace(\"\\t\", \" \").split(\"\\n\"), results))))\n",
    "\n",
    "# Traiter la sortie du premier script\n",
    "x_rej, y1_rej, y2_rej = zip(*[map(float, line.split(\" \")) for line in lines])\n",
    "\n",
    "# Traiter la sortie du deuxième script\n",
    "x_rej2, y1_rej2, y2_rej2 = zip(*[map(float, line.split(\" \")) for line in lines2])\n",
    "\n",
    "# Plot des résultats \n",
    "plt.xlabel(\"Capacité K\")\n",
    "plt.ylabel(\"Taux de rejet\")\n",
    "plt.yscale(\"log\")\n",
    "plt.title(\"Taux de rejet en fonction de la capacité K\")\n",
    "plt.plot(x_rej, y1_rej, label=\"Analytique MM1K\")\n",
    "plt.plot(x_rej, y2_rej, label=\"Simulation MM1K\")\n",
    "plt.plot(x_rej2, y2_rej2, label=\"Simulation MD1K\")\n",
    "plt.legend()\n",
    "plt.show()\n",
    "\n",
    "# Revenir au répertoire précédent\n",
    "os.chdir(\"..\")\n"
   ]
  },
  {
   "cell_type": "markdown",
   "metadata": {},
   "source": [
    "3) Reprendre la question précédente, pour des paquets de taille constante.\n"
   ]
  },
  {
   "cell_type": "markdown",
   "metadata": {},
   "source": [
    "### Simulation d’un système composé de deux noeuds de commutation.\n",
    "Trouver le temps de réponse du système dans le cas où la source et la destination sont séparées par\n",
    "un noeud de commutation de même caractéristiques (Pour des paquets de taille exponentiellement\n",
    "distribuée et pour des paquets de taille constante)."
   ]
  },
  {
   "cell_type": "markdown",
   "metadata": {},
   "source": [
    "1) Trouver la loi d'arrivée des paquets dans la 2ème file lorsque la première est suit une loi exponentielle de paramètre $\\lambda$\n",
    "\n",
    "2) Observer ce résultat par simulation"
   ]
  },
  {
   "cell_type": "code",
   "execution_count": null,
   "metadata": {},
   "outputs": [],
   "source": [
    "from NET_MM1.utils import plot_response\n",
    "import subprocess\n",
    "\n",
    "\n",
    "mm1 = subprocess.run([\"sh\", \"./sim\"], cwd=\"./NET_MM1\", capture_output=True, text=True)\n",
    "\n",
    "if mm1.returncode != 0:\n",
    "    print(mm1.stderr)\n",
    "else:\n",
    "    print(mm1.stdout)\n",
    "    \n",
    "    \n",
    "os.chdir(\"NET_MM1/trace_Response\")\n",
    "\n",
    "# Plot data for avr_response1.out\n",
    "plot_response('avr_response1.out', 20, \"MM1: Temps de réponse serv 1 [0:20]\", yerr_idx=5)\n",
    "plot_response('avr_response1.out', 2000, \"MM1: Temps de réponse serv 1 [0:2000]\", confidence_intervals=(5, 6))\n",
    "\n",
    "# Plot data for avr_response2.out\n",
    "plot_response('avr_response2.out', 20, \"MM1: Temps de réponse serv 2 [0:20]\", yerr_idx=5)\n",
    "plot_response('avr_response2.out', 2000, \"MM1: Temps de réponse serv 2 [0:2000]\", confidence_intervals=(5, 6))\n",
    "\n",
    "os.chdir(\"../..\")"
   ]
  },
  {
   "cell_type": "markdown",
   "metadata": {},
   "source": [
    "3) Observer par simulation le comportement de la deuxième file dans le cas d'une première file MD1. Expliquer ce comportement."
   ]
  },
  {
   "cell_type": "code",
   "execution_count": null,
   "metadata": {},
   "outputs": [],
   "source": [
    "from NET_MM1.utils import plot_response\n",
    "import subprocess\n",
    "\n",
    "print(os.getcwd())\n",
    "\n",
    "md1 = subprocess.run([\"sh\", \"./run.simu\"], cwd=\"./NET_MD1\", capture_output=True, text=True)\n",
    "\n",
    "if md1.returncode != 0:\n",
    "    print(md1.stderr)\n",
    "else:\n",
    "    print(md1.stdout)\n",
    "    \n",
    "    \n",
    "os.chdir(\"NET_MD1/trace_Response\")\n",
    "\n",
    "# Plot data for avr_response1.out\n",
    "plot_response('avr_response1.out', 20, \"MD1: Temps de réponse serv 1 [0:20]\", yerr_idx=5)\n",
    "plot_response('avr_response1.out', 2000, \"MD1: Temps de réponse serv 1 [0:2000]\", confidence_intervals=(5, 6))\n",
    "\n",
    "# Plot data for avr_response2.out\n",
    "plot_response('avr_response2.out', 20, \"MD1: Temps de réponse serv 2 [0:20]\", yerr_idx=5)\n",
    "plot_response('avr_response2.out', 2000, \"MD1: Temps de réponse serv 2 [0:2000]\", confidence_intervals=(5, 6))\n",
    "\n",
    "os.chdir(\"../..\")"
   ]
  }
 ],
 "metadata": {
  "kernelspec": {
   "display_name": "Python 3 (ipykernel)",
   "language": "python",
   "name": "python3"
  },
  "language_info": {
   "codemirror_mode": {
    "name": "ipython",
    "version": 3
   },
   "file_extension": ".py",
   "mimetype": "text/x-python",
   "name": "python",
   "nbconvert_exporter": "python",
   "pygments_lexer": "ipython3",
   "version": "3.9.7"
  }
 },
 "nbformat": 4,
 "nbformat_minor": 2
}
